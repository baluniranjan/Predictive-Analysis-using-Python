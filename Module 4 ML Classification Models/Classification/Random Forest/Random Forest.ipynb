{
 "cells": [
  {
   "cell_type": "code",
   "execution_count": 1,
   "metadata": {},
   "outputs": [],
   "source": [
    "import pandas as pd\n",
    "import numpy as np\n",
    "import matplotlib.pyplot as plt\n",
    "import seaborn as sns\n",
    "\n",
    "from sklearn.preprocessing import StandardScaler, Normalizer, scale\n",
    "from sklearn.ensemble import RandomForestClassifier, AdaBoostClassifier, GradientBoostingClassifier, ExtraTreesClassifier\n",
    "from sklearn.svm import SVC, LinearSVC\n",
    "from sklearn.metrics import confusion_matrix, log_loss, auc, roc_curve, roc_auc_score, recall_score, precision_recall_curve\n",
    "from sklearn.metrics import make_scorer, precision_score, fbeta_score, f1_score, classification_report\n",
    "from sklearn.model_selection import cross_val_score, train_test_split, KFold, StratifiedShuffleSplit, GridSearchCV\n",
    "from sklearn.linear_model import LogisticRegression\n",
    "\n",
    "%matplotlib inline\n",
    "plt.rcParams['figure.figsize'] = (16, 9)\n",
    "\n",
    "seed = 999\n",
    "\n",
    "creditcard = pd.read_csv('./data/creditcard.csv')\n",
    "creditcard.columns = [x.lower() for x in creditcard.columns]\n",
    "creditcard.rename(columns = {'class': 'fraud'}, inplace = True)"
   ]
  },
  {
   "cell_type": "code",
   "execution_count": 2,
   "metadata": {},
   "outputs": [],
   "source": [
    "# 1. Split Test Data Out\n",
    "creditcard.drop(columns = 'time', inplace = True)\n",
    "\n",
    "# Normalize the 'amount' column\n",
    "scaler = StandardScaler()\n",
    "creditcard['amount'] = scaler.fit_transform(creditcard['amount'].values.reshape(-1, 1))\n",
    "# creditcard.drop(columns = 'amount', inplace = True)\n",
    "\n",
    "X = creditcard.iloc[:, :-1]\n",
    "y = creditcard.iloc[:, -1]\n",
    "Xtrain, Xtest, ytrain, ytest = train_test_split(X, y, test_size = .33, stratify = y, random_state = seed)"
   ]
  },
  {
   "cell_type": "markdown",
   "metadata": {},
   "source": [
    "## RandomForestClassifier"
   ]
  },
  {
   "cell_type": "markdown",
   "metadata": {},
   "source": [
    "Usually for imbalanced data, we can try:\n",
    "\n",
    "1. Collect more data (which not work here since the data is given)\n",
    "2. Down-Sampling or Over-Sampling to get balanced samples\n",
    "3. Change the Thresholds to adjust the prediction\n",
    "4. Assign class weights for the low rate class"
   ]
  },
  {
   "cell_type": "markdown",
   "metadata": {},
   "source": [
    "## 1. Use the Imbalanced Data Directly in RandomForestClassifier"
   ]
  },
  {
   "cell_type": "code",
   "execution_count": 3,
   "metadata": {},
   "outputs": [],
   "source": [
    "X = creditcard.iloc[:, :-1]\n",
    "y = creditcard.iloc[:, -1]\n",
    "Xtrain, Xtest, ytrain, ytest = train_test_split(X, y, test_size = .33, stratify = y, random_state = seed)\n",
    "\n",
    "estimator = RandomForestClassifier(random_state=0, warm_start = True)"
   ]
  },
  {
   "cell_type": "code",
   "execution_count": 4,
   "metadata": {},
   "outputs": [],
   "source": [
    "# rf_tuned_parameters = {\"max_depth\": [10, 20, 50, 100], 'n_estimators': [50, 100, 200, 500], 'min_samples_leaf': [10, 20, 50]}"
   ]
  },
  {
   "cell_type": "code",
   "execution_count": 5,
   "metadata": {},
   "outputs": [],
   "source": [
    "rf_tuned_parameters = {\"max_depth\": [10,20], 'n_estimators': [50], 'min_samples_leaf': [10]}"
   ]
  },
  {
   "cell_type": "code",
   "execution_count": 6,
   "metadata": {},
   "outputs": [
    {
     "name": "stdout",
     "output_type": "stream",
     "text": [
      "Fitting 5 folds for each of 2 candidates, totalling 10 fits\n",
      "[CV 1/5] END max_depth=10, min_samples_leaf=10, n_estimators=50; total time=  43.8s\n",
      "[CV 2/5] END max_depth=10, min_samples_leaf=10, n_estimators=50; total time=  46.6s\n",
      "[CV 3/5] END max_depth=10, min_samples_leaf=10, n_estimators=50; total time=  49.4s\n",
      "[CV 4/5] END max_depth=10, min_samples_leaf=10, n_estimators=50; total time=  45.7s\n",
      "[CV 5/5] END max_depth=10, min_samples_leaf=10, n_estimators=50; total time=  49.9s\n",
      "[CV 1/5] END max_depth=20, min_samples_leaf=10, n_estimators=50; total time= 1.3min\n",
      "[CV 2/5] END max_depth=20, min_samples_leaf=10, n_estimators=50; total time= 1.3min\n",
      "[CV 3/5] END max_depth=20, min_samples_leaf=10, n_estimators=50; total time= 1.1min\n",
      "[CV 4/5] END max_depth=20, min_samples_leaf=10, n_estimators=50; total time= 1.2min\n",
      "[CV 5/5] END max_depth=20, min_samples_leaf=10, n_estimators=50; total time= 1.1min\n"
     ]
    },
    {
     "data": {
      "text/plain": [
       "GridSearchCV(estimator=RandomForestClassifier(random_state=0, warm_start=True),\n",
       "             param_grid={'max_depth': [10, 20], 'min_samples_leaf': [10],\n",
       "                         'n_estimators': [50]},\n",
       "             scoring='roc_auc', verbose=5)"
      ]
     },
     "execution_count": 6,
     "metadata": {},
     "output_type": "execute_result"
    }
   ],
   "source": [
    "cv_grid = GridSearchCV(estimator, param_grid = rf_tuned_parameters, scoring = 'roc_auc', verbose = 5) # 'recall', my_score\n",
    "cv_grid.fit(Xtrain, ytrain)"
   ]
  },
  {
   "cell_type": "code",
   "execution_count": 8,
   "metadata": {},
   "outputs": [
    {
     "name": "stdout",
     "output_type": "stream",
     "text": [
      "{'mean_fit_time': array([46.96056376, 70.96481733]), 'std_fit_time': array([2.26770363, 4.52632999]), 'mean_score_time': array([0.2196723 , 0.25400629]), 'std_score_time': array([0.02367693, 0.02137304]), 'param_max_depth': masked_array(data=[10, 20],\n",
      "             mask=[False, False],\n",
      "       fill_value='?',\n",
      "            dtype=object), 'param_min_samples_leaf': masked_array(data=[10, 10],\n",
      "             mask=[False, False],\n",
      "       fill_value='?',\n",
      "            dtype=object), 'param_n_estimators': masked_array(data=[50, 50],\n",
      "             mask=[False, False],\n",
      "       fill_value='?',\n",
      "            dtype=object), 'params': [{'max_depth': 10, 'min_samples_leaf': 10, 'n_estimators': 50}, {'max_depth': 20, 'min_samples_leaf': 10, 'n_estimators': 50}], 'split0_test_score': array([0.97704246, 0.94268887]), 'split1_test_score': array([0.98400556, 0.98041415]), 'split2_test_score': array([0.95973025, 0.97012668]), 'split3_test_score': array([0.97796691, 0.95879725]), 'split4_test_score': array([0.96511648, 0.94171709]), 'mean_test_score': array([0.97277233, 0.95874881]), 'std_test_score': array([0.00894551, 0.01514494]), 'rank_test_score': array([1, 2])}\n"
     ]
    }
   ],
   "source": [
    "print (cv_grid.cv_results_)"
   ]
  },
  {
   "cell_type": "code",
   "execution_count": 9,
   "metadata": {},
   "outputs": [
    {
     "data": {
      "text/plain": [
       "{'mean_fit_time': array([46.96056376, 70.96481733]),\n",
       " 'std_fit_time': array([2.26770363, 4.52632999]),\n",
       " 'mean_score_time': array([0.2196723 , 0.25400629]),\n",
       " 'std_score_time': array([0.02367693, 0.02137304]),\n",
       " 'param_max_depth': masked_array(data=[10, 20],\n",
       "              mask=[False, False],\n",
       "        fill_value='?',\n",
       "             dtype=object),\n",
       " 'param_min_samples_leaf': masked_array(data=[10, 10],\n",
       "              mask=[False, False],\n",
       "        fill_value='?',\n",
       "             dtype=object),\n",
       " 'param_n_estimators': masked_array(data=[50, 50],\n",
       "              mask=[False, False],\n",
       "        fill_value='?',\n",
       "             dtype=object),\n",
       " 'params': [{'max_depth': 10, 'min_samples_leaf': 10, 'n_estimators': 50},\n",
       "  {'max_depth': 20, 'min_samples_leaf': 10, 'n_estimators': 50}],\n",
       " 'split0_test_score': array([0.97704246, 0.94268887]),\n",
       " 'split1_test_score': array([0.98400556, 0.98041415]),\n",
       " 'split2_test_score': array([0.95973025, 0.97012668]),\n",
       " 'split3_test_score': array([0.97796691, 0.95879725]),\n",
       " 'split4_test_score': array([0.96511648, 0.94171709]),\n",
       " 'mean_test_score': array([0.97277233, 0.95874881]),\n",
       " 'std_test_score': array([0.00894551, 0.01514494]),\n",
       " 'rank_test_score': array([1, 2])}"
      ]
     },
     "execution_count": 9,
     "metadata": {},
     "output_type": "execute_result"
    }
   ],
   "source": [
    "cv_grid.cv_results_"
   ]
  },
  {
   "cell_type": "code",
   "execution_count": 10,
   "metadata": {},
   "outputs": [],
   "source": [
    "best_parameters = cv_grid.best_estimator_.get_params()"
   ]
  },
  {
   "cell_type": "code",
   "execution_count": 11,
   "metadata": {},
   "outputs": [
    {
     "data": {
      "text/plain": [
       "{'bootstrap': True,\n",
       " 'ccp_alpha': 0.0,\n",
       " 'class_weight': None,\n",
       " 'criterion': 'gini',\n",
       " 'max_depth': 10,\n",
       " 'max_features': 'auto',\n",
       " 'max_leaf_nodes': None,\n",
       " 'max_samples': None,\n",
       " 'min_impurity_decrease': 0.0,\n",
       " 'min_impurity_split': None,\n",
       " 'min_samples_leaf': 10,\n",
       " 'min_samples_split': 2,\n",
       " 'min_weight_fraction_leaf': 0.0,\n",
       " 'n_estimators': 50,\n",
       " 'n_jobs': None,\n",
       " 'oob_score': False,\n",
       " 'random_state': 0,\n",
       " 'verbose': 0,\n",
       " 'warm_start': True}"
      ]
     },
     "execution_count": 11,
     "metadata": {},
     "output_type": "execute_result"
    }
   ],
   "source": [
    "best_parameters"
   ]
  },
  {
   "cell_type": "code",
   "execution_count": 12,
   "metadata": {},
   "outputs": [
    {
     "name": "stdout",
     "output_type": "stream",
     "text": [
      "\tmax_depth: 10\n",
      "\tmin_samples_leaf: 10\n",
      "\tn_estimators: 50\n"
     ]
    }
   ],
   "source": [
    "for param_name in sorted(rf_tuned_parameters.keys()):\n",
    "    print(\"\\t%s: %r\" % (param_name, best_parameters[param_name]))"
   ]
  },
  {
   "cell_type": "code",
   "execution_count": 13,
   "metadata": {},
   "outputs": [
    {
     "name": "stdout",
     "output_type": "stream",
     "text": [
      "0.7530864197530864\n",
      "0.9172932330827067\n",
      "0.8764845901056932\n",
      "confustion matrix on validation data: \n",
      "[[93814    11]\n",
      " [   40   122]]\n"
     ]
    }
   ],
   "source": [
    "pred_test = cv_grid.predict(Xtest)\n",
    "print(recall_score(ytest, pred_test))     # 0.65\n",
    "print(precision_score(ytest, pred_test))  # 0.85\n",
    "print(roc_auc_score(ytest, pred_test))    # 0.83\n",
    "print(\"confustion matrix on validation data: \\n\" + str(confusion_matrix(ytest, pred_test)))"
   ]
  },
  {
   "cell_type": "markdown",
   "metadata": {},
   "source": [
    "## 2. Create Over-sampling data and Fit the model"
   ]
  },
  {
   "cell_type": "markdown",
   "metadata": {},
   "source": [
    "## 3. RandomForestClassifier with class_weight"
   ]
  },
  {
   "cell_type": "code",
   "execution_count": 18,
   "metadata": {},
   "outputs": [],
   "source": [
    "X = creditcard.iloc[:, :-1]\n",
    "y = creditcard.iloc[:, -1]\n",
    "Xtrain, Xtest, ytrain, ytest = train_test_split(X, y, test_size = .33, stratify = y, random_state = seed)"
   ]
  },
  {
   "cell_type": "code",
   "execution_count": 19,
   "metadata": {},
   "outputs": [],
   "source": [
    "positive_weight = sum(ytrain == 0) / sum(ytrain == 1)  # size to repeat y == 1\n",
    "\n",
    "estimator = RandomForestClassifier(random_state=0, class_weight = {0 : 1, 1 : positive_weight}, warm_start = True)"
   ]
  },
  {
   "cell_type": "code",
   "execution_count": 20,
   "metadata": {},
   "outputs": [],
   "source": [
    "# rf_tuned_parameters = {\"max_depth\": [10, 20, 50, 100], 'n_estimators': [50, 100, 200, 500], 'min_samples_leaf': [10, 20, 50]}"
   ]
  },
  {
   "cell_type": "code",
   "execution_count": 21,
   "metadata": {},
   "outputs": [],
   "source": [
    "rf_tuned_parameters = {\"max_depth\": [10,20], 'n_estimators': [50], 'min_samples_leaf': [10]}"
   ]
  },
  {
   "cell_type": "code",
   "execution_count": 22,
   "metadata": {},
   "outputs": [
    {
     "name": "stdout",
     "output_type": "stream",
     "text": [
      "Fitting 5 folds for each of 2 candidates, totalling 10 fits\n",
      "[CV 1/5] END max_depth=10, min_samples_leaf=10, n_estimators=50; total time=  38.8s\n",
      "[CV 2/5] END max_depth=10, min_samples_leaf=10, n_estimators=50; total time=  33.6s\n",
      "[CV 3/5] END max_depth=10, min_samples_leaf=10, n_estimators=50; total time=  30.2s\n",
      "[CV 4/5] END max_depth=10, min_samples_leaf=10, n_estimators=50; total time=  32.1s\n",
      "[CV 5/5] END max_depth=10, min_samples_leaf=10, n_estimators=50; total time=  31.7s\n",
      "[CV 1/5] END max_depth=20, min_samples_leaf=10, n_estimators=50; total time=  30.7s\n",
      "[CV 2/5] END max_depth=20, min_samples_leaf=10, n_estimators=50; total time=  31.9s\n",
      "[CV 3/5] END max_depth=20, min_samples_leaf=10, n_estimators=50; total time=  29.9s\n",
      "[CV 4/5] END max_depth=20, min_samples_leaf=10, n_estimators=50; total time=  32.6s\n",
      "[CV 5/5] END max_depth=20, min_samples_leaf=10, n_estimators=50; total time=  31.5s\n"
     ]
    },
    {
     "data": {
      "text/plain": [
       "GridSearchCV(estimator=RandomForestClassifier(class_weight={0: 1,\n",
       "                                                            1: 577.2424242424242},\n",
       "                                              random_state=0, warm_start=True),\n",
       "             param_grid={'max_depth': [10, 20], 'min_samples_leaf': [10],\n",
       "                         'n_estimators': [50]},\n",
       "             scoring='roc_auc', verbose=5)"
      ]
     },
     "execution_count": 22,
     "metadata": {},
     "output_type": "execute_result"
    }
   ],
   "source": [
    "cv_grid = GridSearchCV(estimator, param_grid = rf_tuned_parameters, scoring = 'roc_auc', verbose = 5) # 'recall', my_score\n",
    "cv_grid.fit(Xtrain, ytrain)"
   ]
  },
  {
   "cell_type": "code",
   "execution_count": 23,
   "metadata": {},
   "outputs": [
    {
     "data": {
      "text/plain": [
       "{'mean_fit_time': array([33.16161108, 31.24362402]),\n",
       " 'std_fit_time': array([2.92718634, 0.95469386]),\n",
       " 'mean_score_time': array([0.20468321, 0.18049707]),\n",
       " 'std_score_time': array([0.03230071, 0.00195841]),\n",
       " 'param_max_depth': masked_array(data=[10, 20],\n",
       "              mask=[False, False],\n",
       "        fill_value='?',\n",
       "             dtype=object),\n",
       " 'param_min_samples_leaf': masked_array(data=[10, 10],\n",
       "              mask=[False, False],\n",
       "        fill_value='?',\n",
       "             dtype=object),\n",
       " 'param_n_estimators': masked_array(data=[50, 50],\n",
       "              mask=[False, False],\n",
       "        fill_value='?',\n",
       "             dtype=object),\n",
       " 'params': [{'max_depth': 10, 'min_samples_leaf': 10, 'n_estimators': 50},\n",
       "  {'max_depth': 20, 'min_samples_leaf': 10, 'n_estimators': 50}],\n",
       " 'split0_test_score': array([0.99003626, 0.96549151]),\n",
       " 'split1_test_score': array([0.97211756, 0.96656967]),\n",
       " 'split2_test_score': array([0.95961512, 0.94179007]),\n",
       " 'split3_test_score': array([0.98113637, 0.98189816]),\n",
       " 'split4_test_score': array([0.94011636, 0.92626094]),\n",
       " 'mean_test_score': array([0.96860433, 0.95640207]),\n",
       " 'std_test_score': array([0.01744186, 0.01978912]),\n",
       " 'rank_test_score': array([1, 2])}"
      ]
     },
     "execution_count": 23,
     "metadata": {},
     "output_type": "execute_result"
    }
   ],
   "source": [
    "cv_grid.cv_results_"
   ]
  },
  {
   "cell_type": "code",
   "execution_count": 24,
   "metadata": {},
   "outputs": [
    {
     "data": {
      "text/plain": [
       "{'bootstrap': True,\n",
       " 'ccp_alpha': 0.0,\n",
       " 'class_weight': {0: 1, 1: 577.2424242424242},\n",
       " 'criterion': 'gini',\n",
       " 'max_depth': 10,\n",
       " 'max_features': 'auto',\n",
       " 'max_leaf_nodes': None,\n",
       " 'max_samples': None,\n",
       " 'min_impurity_decrease': 0.0,\n",
       " 'min_impurity_split': None,\n",
       " 'min_samples_leaf': 10,\n",
       " 'min_samples_split': 2,\n",
       " 'min_weight_fraction_leaf': 0.0,\n",
       " 'n_estimators': 50,\n",
       " 'n_jobs': None,\n",
       " 'oob_score': False,\n",
       " 'random_state': 0,\n",
       " 'verbose': 0,\n",
       " 'warm_start': True}"
      ]
     },
     "execution_count": 24,
     "metadata": {},
     "output_type": "execute_result"
    }
   ],
   "source": [
    "best_parameters = cv_grid.best_estimator_.get_params()\n",
    "best_parameters"
   ]
  },
  {
   "cell_type": "code",
   "execution_count": 25,
   "metadata": {},
   "outputs": [
    {
     "name": "stdout",
     "output_type": "stream",
     "text": [
      "\tmax_depth: 10\n",
      "\tmin_samples_leaf: 10\n",
      "\tn_estimators: 50\n"
     ]
    }
   ],
   "source": [
    "for param_name in sorted(rf_tuned_parameters.keys()):\n",
    "    print(\"\\t%s: %r\" % (param_name, best_parameters[param_name]))"
   ]
  },
  {
   "cell_type": "code",
   "execution_count": 26,
   "metadata": {},
   "outputs": [
    {
     "name": "stdout",
     "output_type": "stream",
     "text": [
      "0.8333333333333334\n",
      "0.8490566037735849\n",
      "0.9165387689848122\n",
      "\n",
      " confustion matrix on validation data: \n",
      "[[93801    24]\n",
      " [   27   135]]\n"
     ]
    }
   ],
   "source": [
    "pred_test = cv_grid.predict(Xtest)\n",
    "print(recall_score(ytest, pred_test))     #  0.85\n",
    "print(precision_score(ytest, pred_test))  #  0.81\n",
    "print(roc_auc_score(ytest, pred_test))    #  0.92\n",
    "print(\"\\n confustion matrix on validation data: \\n\" + str(confusion_matrix(ytest, pred_test)))"
   ]
  },
  {
   "cell_type": "markdown",
   "metadata": {},
   "source": [
    "## 4. Self-defined Score and GridSearchCV of hyperparameter"
   ]
  },
  {
   "cell_type": "code",
   "execution_count": 30,
   "metadata": {},
   "outputs": [],
   "source": [
    "def scoring(ground_truth, predictions):\n",
    "    '''\n",
    "    based on results above about the average loss from false positive and false negative predictions.\n",
    "    '''\n",
    "    cmatrix = confusion_matrix(ground_truth, predictions)\n",
    "    fp = cmatrix[0, 1]\n",
    "    fn = cmatrix[1, 0]\n",
    "    return  fn * 122 + fp * 1.76"
   ]
  },
  {
   "cell_type": "code",
   "execution_count": 31,
   "metadata": {},
   "outputs": [],
   "source": [
    "wt_loss_score = make_scorer(scoring, greater_is_better = False)"
   ]
  },
  {
   "cell_type": "code",
   "execution_count": 32,
   "metadata": {},
   "outputs": [],
   "source": [
    "X = creditcard.iloc[:, :-1]\n",
    "y = creditcard.iloc[:, -1]\n",
    "Xtrain, Xtest, ytrain, ytest = train_test_split(X, y, test_size = .33, stratify = y, random_state = seed)\n",
    "\n",
    "estimator = RandomForestClassifier(random_state=0, warm_start = True)"
   ]
  },
  {
   "cell_type": "code",
   "execution_count": 33,
   "metadata": {},
   "outputs": [],
   "source": [
    "estimator = RandomForestClassifier(random_state=0, warm_start = True)"
   ]
  },
  {
   "cell_type": "code",
   "execution_count": 34,
   "metadata": {},
   "outputs": [],
   "source": [
    "# rf_tuned_parameters = {\"max_depth\": [10, 20, 50, 100], 'n_estimators': [50, 100, 200, 500], 'min_samples_leaf': [10, 20, 50]}"
   ]
  },
  {
   "cell_type": "code",
   "execution_count": 35,
   "metadata": {},
   "outputs": [],
   "source": [
    "rf_tuned_parameters = {\"max_depth\": [10,20], 'n_estimators': [50], 'min_samples_leaf': [10]}"
   ]
  },
  {
   "cell_type": "code",
   "execution_count": 37,
   "metadata": {},
   "outputs": [
    {
     "name": "stdout",
     "output_type": "stream",
     "text": [
      "Fitting 5 folds for each of 2 candidates, totalling 10 fits\n",
      "[CV 1/5] END max_depth=10, min_samples_leaf=10, n_estimators=50; total time=  49.9s\n",
      "[CV 2/5] END max_depth=10, min_samples_leaf=10, n_estimators=50; total time=  44.4s\n",
      "[CV 3/5] END max_depth=10, min_samples_leaf=10, n_estimators=50; total time=  44.8s\n",
      "[CV 4/5] END max_depth=10, min_samples_leaf=10, n_estimators=50; total time=  48.2s\n",
      "[CV 5/5] END max_depth=10, min_samples_leaf=10, n_estimators=50; total time=  46.3s\n",
      "[CV 1/5] END max_depth=20, min_samples_leaf=10, n_estimators=50; total time= 1.0min\n",
      "[CV 2/5] END max_depth=20, min_samples_leaf=10, n_estimators=50; total time= 1.1min\n",
      "[CV 3/5] END max_depth=20, min_samples_leaf=10, n_estimators=50; total time= 1.0min\n",
      "[CV 4/5] END max_depth=20, min_samples_leaf=10, n_estimators=50; total time= 1.0min\n",
      "[CV 5/5] END max_depth=20, min_samples_leaf=10, n_estimators=50; total time= 1.0min\n"
     ]
    },
    {
     "data": {
      "text/plain": [
       "GridSearchCV(estimator=RandomForestClassifier(random_state=0, warm_start=True),\n",
       "             param_grid={'max_depth': [10, 20], 'min_samples_leaf': [10],\n",
       "                         'n_estimators': [50]},\n",
       "             scoring=make_scorer(scoring, greater_is_better=False), verbose=5)"
      ]
     },
     "execution_count": 37,
     "metadata": {},
     "output_type": "execute_result"
    }
   ],
   "source": [
    "cv_grid = GridSearchCV(estimator, param_grid = rf_tuned_parameters, scoring = wt_loss_score, verbose = 5)\n",
    "cv_grid.fit(Xtrain, ytrain)"
   ]
  },
  {
   "cell_type": "code",
   "execution_count": 38,
   "metadata": {},
   "outputs": [
    {
     "data": {
      "text/plain": [
       "{'max_depth': 20, 'min_samples_leaf': 10, 'n_estimators': 50}"
      ]
     },
     "execution_count": 38,
     "metadata": {},
     "output_type": "execute_result"
    }
   ],
   "source": [
    "cv_grid.best_params_"
   ]
  },
  {
   "cell_type": "code",
   "execution_count": 39,
   "metadata": {},
   "outputs": [
    {
     "data": {
      "text/plain": [
       "{'bootstrap': True,\n",
       " 'ccp_alpha': 0.0,\n",
       " 'class_weight': None,\n",
       " 'criterion': 'gini',\n",
       " 'max_depth': 20,\n",
       " 'max_features': 'auto',\n",
       " 'max_leaf_nodes': None,\n",
       " 'max_samples': None,\n",
       " 'min_impurity_decrease': 0.0,\n",
       " 'min_impurity_split': None,\n",
       " 'min_samples_leaf': 10,\n",
       " 'min_samples_split': 2,\n",
       " 'min_weight_fraction_leaf': 0.0,\n",
       " 'n_estimators': 50,\n",
       " 'n_jobs': None,\n",
       " 'oob_score': False,\n",
       " 'random_state': 0,\n",
       " 'verbose': 0,\n",
       " 'warm_start': True}"
      ]
     },
     "execution_count": 39,
     "metadata": {},
     "output_type": "execute_result"
    }
   ],
   "source": [
    "best_parameters = cv_grid.best_estimator_.get_params()\n",
    "best_parameters"
   ]
  },
  {
   "cell_type": "code",
   "execution_count": 40,
   "metadata": {},
   "outputs": [
    {
     "name": "stdout",
     "output_type": "stream",
     "text": [
      "\tmax_depth: 20\n",
      "\tmin_samples_leaf: 10\n",
      "\tn_estimators: 50\n"
     ]
    }
   ],
   "source": [
    "for param_name in sorted(rf_tuned_parameters.keys()):\n",
    "    print(\"\\t%s: %r\" % (param_name, best_parameters[param_name]))"
   ]
  },
  {
   "cell_type": "code",
   "execution_count": 41,
   "metadata": {},
   "outputs": [
    {
     "name": "stdout",
     "output_type": "stream",
     "text": [
      "0.7592592592592593\n",
      "0.917910447761194\n",
      "0.8795710098587797\n",
      "\n",
      " confustion matrix on validation data: \n",
      "[[93814    11]\n",
      " [   39   123]]\n"
     ]
    }
   ],
   "source": [
    "pred_test = cv_grid.predict(Xtest)\n",
    "print(recall_score(ytest, pred_test))     # 0.84\n",
    "print(precision_score(ytest, pred_test))  # 0.84\n",
    "print(roc_auc_score(ytest, pred_test))    # 0.92\n",
    "print(\"\\n confustion matrix on validation data: \\n\" + str(confusion_matrix(ytest, pred_test)))"
   ]
  },
  {
   "cell_type": "code",
   "execution_count": null,
   "metadata": {},
   "outputs": [],
   "source": []
  }
 ],
 "metadata": {
  "kernelspec": {
   "display_name": "Python 3 (ipykernel)",
   "language": "python",
   "name": "python3"
  },
  "language_info": {
   "codemirror_mode": {
    "name": "ipython",
    "version": 3
   },
   "file_extension": ".py",
   "mimetype": "text/x-python",
   "name": "python",
   "nbconvert_exporter": "python",
   "pygments_lexer": "ipython3",
   "version": "3.8.16"
  }
 },
 "nbformat": 4,
 "nbformat_minor": 4
}
