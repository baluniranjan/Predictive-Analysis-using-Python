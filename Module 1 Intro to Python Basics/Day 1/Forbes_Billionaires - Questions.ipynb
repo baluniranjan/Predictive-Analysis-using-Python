{
 "cells": [
  {
   "cell_type": "markdown",
   "metadata": {
    "ExecuteTime": {
     "end_time": "2020-11-19T05:35:59.664061Z",
     "start_time": "2020-11-19T05:35:59.311222Z"
    }
   },
   "source": [
    "### Import Numpy and Pandas Libraries"
   ]
  },
  {
   "cell_type": "code",
   "execution_count": 1,
   "metadata": {
    "ExecuteTime": {
     "end_time": "2020-11-19T05:35:59.673224Z",
     "start_time": "2020-11-19T05:35:59.666044Z"
    }
   },
   "outputs": [],
   "source": [
    "import numpy as np\n",
    "import pandas as pd"
   ]
  },
  {
   "cell_type": "markdown",
   "metadata": {},
   "source": [
    "# Q1. Read the '.csv' file into a data frame and display the first 5 rows."
   ]
  },
  {
   "cell_type": "code",
   "execution_count": 157,
   "metadata": {},
   "outputs": [
    {
     "data": {
      "text/html": [
       "<div>\n",
       "<style scoped>\n",
       "    .dataframe tbody tr th:only-of-type {\n",
       "        vertical-align: middle;\n",
       "    }\n",
       "\n",
       "    .dataframe tbody tr th {\n",
       "        vertical-align: top;\n",
       "    }\n",
       "\n",
       "    .dataframe thead th {\n",
       "        text-align: right;\n",
       "    }\n",
       "</style>\n",
       "<table border=\"1\" class=\"dataframe\">\n",
       "  <thead>\n",
       "    <tr style=\"text-align: right;\">\n",
       "      <th></th>\n",
       "      <th>Rank</th>\n",
       "      <th>Name</th>\n",
       "      <th>Age</th>\n",
       "      <th>Net Worth</th>\n",
       "      <th>Country</th>\n",
       "      <th>Source</th>\n",
       "      <th>Industries</th>\n",
       "    </tr>\n",
       "  </thead>\n",
       "  <tbody>\n",
       "    <tr>\n",
       "      <th>0</th>\n",
       "      <td>1</td>\n",
       "      <td>JEFF BEZOS</td>\n",
       "      <td>56.0</td>\n",
       "      <td>113.0</td>\n",
       "      <td>United States</td>\n",
       "      <td>Amazon</td>\n",
       "      <td>Technology</td>\n",
       "    </tr>\n",
       "    <tr>\n",
       "      <th>1</th>\n",
       "      <td>2</td>\n",
       "      <td>BILL GATES</td>\n",
       "      <td>64.0</td>\n",
       "      <td>98.0</td>\n",
       "      <td>United States</td>\n",
       "      <td>Microsoft</td>\n",
       "      <td>Technology</td>\n",
       "    </tr>\n",
       "    <tr>\n",
       "      <th>2</th>\n",
       "      <td>3</td>\n",
       "      <td>BERNARD ARNAULT &amp; FAMILY</td>\n",
       "      <td>71.0</td>\n",
       "      <td>76.0</td>\n",
       "      <td>France</td>\n",
       "      <td>LVMH</td>\n",
       "      <td>Fashion &amp; Retail</td>\n",
       "    </tr>\n",
       "    <tr>\n",
       "      <th>3</th>\n",
       "      <td>4</td>\n",
       "      <td>WARREN BUFFETT</td>\n",
       "      <td>89.0</td>\n",
       "      <td>67.5</td>\n",
       "      <td>United States</td>\n",
       "      <td>Berkshire Hathaway</td>\n",
       "      <td>Finance &amp; Investments</td>\n",
       "    </tr>\n",
       "    <tr>\n",
       "      <th>4</th>\n",
       "      <td>5</td>\n",
       "      <td>LARRY ELLISON</td>\n",
       "      <td>75.0</td>\n",
       "      <td>59.0</td>\n",
       "      <td>United States</td>\n",
       "      <td>software</td>\n",
       "      <td>Technology</td>\n",
       "    </tr>\n",
       "    <tr>\n",
       "      <th>...</th>\n",
       "      <td>...</td>\n",
       "      <td>...</td>\n",
       "      <td>...</td>\n",
       "      <td>...</td>\n",
       "      <td>...</td>\n",
       "      <td>...</td>\n",
       "      <td>...</td>\n",
       "    </tr>\n",
       "    <tr>\n",
       "      <th>2090</th>\n",
       "      <td>1990</td>\n",
       "      <td>DAVID HALL</td>\n",
       "      <td>68.0</td>\n",
       "      <td>1.0</td>\n",
       "      <td>United States</td>\n",
       "      <td>automotive technology</td>\n",
       "      <td>Automotive</td>\n",
       "    </tr>\n",
       "    <tr>\n",
       "      <th>2091</th>\n",
       "      <td>1990</td>\n",
       "      <td>DU SHA</td>\n",
       "      <td>73.0</td>\n",
       "      <td>1.0</td>\n",
       "      <td>China</td>\n",
       "      <td>hypermarkets</td>\n",
       "      <td>Diversified</td>\n",
       "    </tr>\n",
       "    <tr>\n",
       "      <th>2092</th>\n",
       "      <td>1990</td>\n",
       "      <td>WANG YANQING</td>\n",
       "      <td>73.0</td>\n",
       "      <td>1.0</td>\n",
       "      <td>China</td>\n",
       "      <td>carbon fiber products</td>\n",
       "      <td>Manufacturing</td>\n",
       "    </tr>\n",
       "    <tr>\n",
       "      <th>2093</th>\n",
       "      <td>1990</td>\n",
       "      <td>XU WANMAO</td>\n",
       "      <td>75.0</td>\n",
       "      <td>1.0</td>\n",
       "      <td>China</td>\n",
       "      <td>education</td>\n",
       "      <td>Service</td>\n",
       "    </tr>\n",
       "    <tr>\n",
       "      <th>2094</th>\n",
       "      <td>1990</td>\n",
       "      <td>WANG MIAOTONG</td>\n",
       "      <td>62.0</td>\n",
       "      <td>1.0</td>\n",
       "      <td>China</td>\n",
       "      <td>auto parts</td>\n",
       "      <td>Automotive</td>\n",
       "    </tr>\n",
       "  </tbody>\n",
       "</table>\n",
       "<p>2095 rows × 7 columns</p>\n",
       "</div>"
      ],
      "text/plain": [
       "      Rank                      Name   Age  Net Worth        Country  \\\n",
       "0        1                JEFF BEZOS  56.0      113.0  United States   \n",
       "1        2                BILL GATES  64.0       98.0  United States   \n",
       "2        3  BERNARD ARNAULT & FAMILY  71.0       76.0         France   \n",
       "3        4            WARREN BUFFETT  89.0       67.5  United States   \n",
       "4        5             LARRY ELLISON  75.0       59.0  United States   \n",
       "...    ...                       ...   ...        ...            ...   \n",
       "2090  1990                DAVID HALL  68.0        1.0  United States   \n",
       "2091  1990                    DU SHA  73.0        1.0          China   \n",
       "2092  1990              WANG YANQING  73.0        1.0          China   \n",
       "2093  1990                 XU WANMAO  75.0        1.0          China   \n",
       "2094  1990             WANG MIAOTONG  62.0        1.0          China   \n",
       "\n",
       "                     Source             Industries  \n",
       "0                    Amazon             Technology  \n",
       "1                 Microsoft             Technology  \n",
       "2                      LVMH       Fashion & Retail  \n",
       "3        Berkshire Hathaway  Finance & Investments  \n",
       "4                  software             Technology  \n",
       "...                     ...                    ...  \n",
       "2090  automotive technology             Automotive  \n",
       "2091           hypermarkets            Diversified  \n",
       "2092  carbon fiber products          Manufacturing  \n",
       "2093              education                Service  \n",
       "2094             auto parts             Automotive  \n",
       "\n",
       "[2095 rows x 7 columns]"
      ]
     },
     "execution_count": 157,
     "metadata": {},
     "output_type": "execute_result"
    }
   ],
   "source": [
    "df=pd.read_csv('C:\\\\Users\\gurun\\Desktop\\VAC Predictive Analysis Python\\Datasets\\Forbes_Billionaire.csv')\n",
    "df"
   ]
  },
  {
   "cell_type": "markdown",
   "metadata": {},
   "source": [
    "# Q2. Name the top 8 industries with maximum count of billionaires"
   ]
  },
  {
   "cell_type": "code",
   "execution_count": 98,
   "metadata": {},
   "outputs": [
    {
     "data": {
      "text/plain": [
       "Industries\n",
       "Finance & Investments    298\n",
       "Technology               241\n",
       "Fashion & Retail         209\n",
       "Manufacturing            198\n",
       "Real Estate              196\n",
       "Diversified              169\n",
       "Food & Beverage          168\n",
       "Healthcare               149\n",
       "Name: Name, dtype: int64"
      ]
     },
     "execution_count": 98,
     "metadata": {},
     "output_type": "execute_result"
    }
   ],
   "source": [
    "#df.groupby('Industries')['Name'].nunique().sort_values(ascending=False).head(8)\n",
    "df['Name'].groupby(df['Industries']).nunique().sort_values(ascending=False).head(8)"
   ]
  },
  {
   "cell_type": "markdown",
   "metadata": {},
   "source": [
    "# Q3. State the headcount of billionaires from these top 8 industries"
   ]
  },
  {
   "cell_type": "code",
   "execution_count": 97,
   "metadata": {},
   "outputs": [
    {
     "data": {
      "text/plain": [
       "Industries\n",
       "Finance & Investments    298\n",
       "Technology               241\n",
       "Fashion & Retail         209\n",
       "Manufacturing            198\n",
       "Real Estate              196\n",
       "Diversified              169\n",
       "Food & Beverage          168\n",
       "Healthcare               149\n",
       "Name: Name, dtype: int64"
      ]
     },
     "execution_count": 97,
     "metadata": {},
     "output_type": "execute_result"
    }
   ],
   "source": [
    "#df.groupby('Industries')['Name'].nunique().sort_values(ascending=False).head(8)\n",
    "df['Name'].groupby(df['Industries']).nunique().sort_values(ascending=False).head(8)"
   ]
  },
  {
   "cell_type": "markdown",
   "metadata": {},
   "source": [
    "# Q4. Compare the mean of net worth of billionaires from these top 8 industries."
   ]
  },
  {
   "cell_type": "code",
   "execution_count": 100,
   "metadata": {
    "ExecuteTime": {
     "end_time": "2020-11-19T05:36:00.598119Z",
     "start_time": "2020-11-19T05:36:00.440541Z"
    }
   },
   "outputs": [
    {
     "data": {
      "text/plain": [
       "Industries\n",
       "Technology               5.634440\n",
       "Fashion & Retail         5.372727\n",
       "Telecom                  4.941379\n",
       "Gambling & Casinos       4.528571\n",
       "Metals & Mining          4.193220\n",
       "Energy                   4.067500\n",
       "Media & Entertainment    3.994595\n",
       "Food & Beverage          3.708333\n",
       "Name: Net Worth, dtype: float64"
      ]
     },
     "execution_count": 100,
     "metadata": {},
     "output_type": "execute_result"
    }
   ],
   "source": [
    "#df.groupby(\"Industries\")['Net Worth'].mean().sort_values(ascending=False).head(8)\n",
    "df['Net Worth'].groupby(df['Industries']).mean().sort_values(ascending=False).head(8)"
   ]
  },
  {
   "cell_type": "markdown",
   "metadata": {},
   "source": [
    "# Q5. Compare the mean age of billionaires from these top 8 industries."
   ]
  },
  {
   "cell_type": "code",
   "execution_count": 101,
   "metadata": {},
   "outputs": [
    {
     "data": {
      "text/plain": [
       "Industries\n",
       "Technology               55.375527\n",
       "Metals & Mining          60.913793\n",
       "Healthcare               63.088435\n",
       "Automotive               63.152174\n",
       "Manufacturing            64.139896\n",
       "Service                  64.317460\n",
       "Telecom                  64.413793\n",
       "Media & Entertainment    64.760563\n",
       "Name: Age, dtype: float64"
      ]
     },
     "execution_count": 101,
     "metadata": {},
     "output_type": "execute_result"
    }
   ],
   "source": [
    "#df.groupby('Industries')['Age'].mean().sort_values().head(8)\n",
    "df['Age'].groupby(df['Industries']).mean().sort_values().head(8)"
   ]
  },
  {
   "cell_type": "markdown",
   "metadata": {},
   "source": [
    "# Q6. Name the Richest billionaire in the Automotive sector"
   ]
  },
  {
   "cell_type": "code",
   "execution_count": 254,
   "metadata": {},
   "outputs": [
    {
     "data": {
      "text/html": [
       "<div>\n",
       "<style scoped>\n",
       "    .dataframe tbody tr th:only-of-type {\n",
       "        vertical-align: middle;\n",
       "    }\n",
       "\n",
       "    .dataframe tbody tr th {\n",
       "        vertical-align: top;\n",
       "    }\n",
       "\n",
       "    .dataframe thead th {\n",
       "        text-align: right;\n",
       "    }\n",
       "</style>\n",
       "<table border=\"1\" class=\"dataframe\">\n",
       "  <thead>\n",
       "    <tr style=\"text-align: right;\">\n",
       "      <th></th>\n",
       "      <th>Rank</th>\n",
       "      <th>Name</th>\n",
       "      <th>Age</th>\n",
       "      <th>Net Worth</th>\n",
       "      <th>Country</th>\n",
       "      <th>Source</th>\n",
       "      <th>Industries</th>\n",
       "    </tr>\n",
       "  </thead>\n",
       "  <tbody>\n",
       "    <tr>\n",
       "      <th>30</th>\n",
       "      <td>31</td>\n",
       "      <td>ELON MUSK</td>\n",
       "      <td>48.0</td>\n",
       "      <td>24.6</td>\n",
       "      <td>United States</td>\n",
       "      <td>Tesla, SpaceX</td>\n",
       "      <td>Automotive</td>\n",
       "    </tr>\n",
       "    <tr>\n",
       "      <th>53</th>\n",
       "      <td>54</td>\n",
       "      <td>SUSANNE KLATTEN</td>\n",
       "      <td>57.0</td>\n",
       "      <td>16.8</td>\n",
       "      <td>Germany</td>\n",
       "      <td>BMW, pharmaceuticals</td>\n",
       "      <td>Automotive</td>\n",
       "    </tr>\n",
       "  </tbody>\n",
       "</table>\n",
       "</div>"
      ],
      "text/plain": [
       "    Rank             Name   Age  Net Worth        Country  \\\n",
       "30    31        ELON MUSK  48.0       24.6  United States   \n",
       "53    54  SUSANNE KLATTEN  57.0       16.8        Germany   \n",
       "\n",
       "                  Source  Industries  \n",
       "30         Tesla, SpaceX  Automotive  \n",
       "53  BMW, pharmaceuticals  Automotive  "
      ]
     },
     "execution_count": 254,
     "metadata": {},
     "output_type": "execute_result"
    }
   ],
   "source": [
    "df.loc[df['Industries']=='Automotive'].nlargest(2,'Net Worth')#[['Name','Net Worth']]"
   ]
  },
  {
   "cell_type": "markdown",
   "metadata": {},
   "source": [
    "# Q7. Name top 5 countries with maximum number of billionaires."
   ]
  },
  {
   "cell_type": "code",
   "execution_count": 145,
   "metadata": {
    "ExecuteTime": {
     "end_time": "2020-11-19T05:36:01.990680Z",
     "start_time": "2020-11-19T05:36:01.863745Z"
    }
   },
   "outputs": [
    {
     "data": {
      "text/plain": [
       "Country\n",
       "United States    614\n",
       "China            387\n",
       "Germany          107\n",
       "India            102\n",
       "Russia            99\n",
       "Name: Name, dtype: int64"
      ]
     },
     "execution_count": 145,
     "metadata": {},
     "output_type": "execute_result"
    }
   ],
   "source": [
    "#df['Name'].groupby(df['Country']).nunique().sort_values(ascending=False).head(5)\n",
    "df['Name'].groupby(df['Country']).nunique().nlargest(5)"
   ]
  },
  {
   "cell_type": "markdown",
   "metadata": {},
   "source": [
    "# Q8. Name the richest Chinese billionaire and his net worth"
   ]
  },
  {
   "cell_type": "code",
   "execution_count": 147,
   "metadata": {
    "ExecuteTime": {
     "end_time": "2020-11-19T05:36:03.497416Z",
     "start_time": "2020-11-19T05:36:03.366939Z"
    }
   },
   "outputs": [
    {
     "data": {
      "text/html": [
       "<div>\n",
       "<style scoped>\n",
       "    .dataframe tbody tr th:only-of-type {\n",
       "        vertical-align: middle;\n",
       "    }\n",
       "\n",
       "    .dataframe tbody tr th {\n",
       "        vertical-align: top;\n",
       "    }\n",
       "\n",
       "    .dataframe thead th {\n",
       "        text-align: right;\n",
       "    }\n",
       "</style>\n",
       "<table border=\"1\" class=\"dataframe\">\n",
       "  <thead>\n",
       "    <tr style=\"text-align: right;\">\n",
       "      <th></th>\n",
       "      <th>Rank</th>\n",
       "      <th>Name</th>\n",
       "      <th>Age</th>\n",
       "      <th>Net Worth</th>\n",
       "      <th>Country</th>\n",
       "      <th>Source</th>\n",
       "      <th>Industries</th>\n",
       "    </tr>\n",
       "  </thead>\n",
       "  <tbody>\n",
       "    <tr>\n",
       "      <th>16</th>\n",
       "      <td>17</td>\n",
       "      <td>JACK MA</td>\n",
       "      <td>55.0</td>\n",
       "      <td>38.8</td>\n",
       "      <td>China</td>\n",
       "      <td>e-commerce</td>\n",
       "      <td>Technology</td>\n",
       "    </tr>\n",
       "  </tbody>\n",
       "</table>\n",
       "</div>"
      ],
      "text/plain": [
       "    Rank     Name   Age  Net Worth Country      Source  Industries\n",
       "16    17  JACK MA  55.0       38.8   China  e-commerce  Technology"
      ]
     },
     "execution_count": 147,
     "metadata": {},
     "output_type": "execute_result"
    }
   ],
   "source": [
    "#df[df['Country']=='China'].sort_values(by='Net Worth',ascending=False).head(1)\n",
    "df.loc[df['Country']=='China'].nlargest(1,'Net Worth')"
   ]
  },
  {
   "cell_type": "markdown",
   "metadata": {},
   "source": [
    "# Q9. Name top 5 Industries with maximum number of Indian billionaires."
   ]
  },
  {
   "cell_type": "code",
   "execution_count": 154,
   "metadata": {
    "ExecuteTime": {
     "end_time": "2020-11-19T05:36:03.620536Z",
     "start_time": "2020-11-19T05:36:03.499374Z"
    }
   },
   "outputs": [
    {
     "data": {
      "text/html": [
       "<div>\n",
       "<style scoped>\n",
       "    .dataframe tbody tr th:only-of-type {\n",
       "        vertical-align: middle;\n",
       "    }\n",
       "\n",
       "    .dataframe tbody tr th {\n",
       "        vertical-align: top;\n",
       "    }\n",
       "\n",
       "    .dataframe thead th {\n",
       "        text-align: right;\n",
       "    }\n",
       "</style>\n",
       "<table border=\"1\" class=\"dataframe\">\n",
       "  <thead>\n",
       "    <tr style=\"text-align: right;\">\n",
       "      <th></th>\n",
       "      <th>Rank</th>\n",
       "      <th>Name</th>\n",
       "      <th>Age</th>\n",
       "      <th>Net Worth</th>\n",
       "      <th>Country</th>\n",
       "      <th>Source</th>\n",
       "      <th>Industries</th>\n",
       "    </tr>\n",
       "    <tr>\n",
       "      <th>Industries</th>\n",
       "      <th></th>\n",
       "      <th></th>\n",
       "      <th></th>\n",
       "      <th></th>\n",
       "      <th></th>\n",
       "      <th></th>\n",
       "      <th></th>\n",
       "    </tr>\n",
       "  </thead>\n",
       "  <tbody>\n",
       "    <tr>\n",
       "      <th>Healthcare</th>\n",
       "      <td>10</td>\n",
       "      <td>17</td>\n",
       "      <td>13</td>\n",
       "      <td>10</td>\n",
       "      <td>1</td>\n",
       "      <td>5</td>\n",
       "      <td>1</td>\n",
       "    </tr>\n",
       "    <tr>\n",
       "      <th>Manufacturing</th>\n",
       "      <td>11</td>\n",
       "      <td>14</td>\n",
       "      <td>12</td>\n",
       "      <td>11</td>\n",
       "      <td>1</td>\n",
       "      <td>9</td>\n",
       "      <td>1</td>\n",
       "    </tr>\n",
       "    <tr>\n",
       "      <th>Diversified</th>\n",
       "      <td>9</td>\n",
       "      <td>13</td>\n",
       "      <td>10</td>\n",
       "      <td>9</td>\n",
       "      <td>1</td>\n",
       "      <td>4</td>\n",
       "      <td>1</td>\n",
       "    </tr>\n",
       "    <tr>\n",
       "      <th>Technology</th>\n",
       "      <td>7</td>\n",
       "      <td>11</td>\n",
       "      <td>8</td>\n",
       "      <td>7</td>\n",
       "      <td>1</td>\n",
       "      <td>5</td>\n",
       "      <td>1</td>\n",
       "    </tr>\n",
       "    <tr>\n",
       "      <th>Food &amp; Beverage</th>\n",
       "      <td>6</td>\n",
       "      <td>8</td>\n",
       "      <td>8</td>\n",
       "      <td>6</td>\n",
       "      <td>1</td>\n",
       "      <td>2</td>\n",
       "      <td>1</td>\n",
       "    </tr>\n",
       "  </tbody>\n",
       "</table>\n",
       "</div>"
      ],
      "text/plain": [
       "                 Rank  Name  Age  Net Worth  Country  Source  Industries\n",
       "Industries                                                              \n",
       "Healthcare         10    17   13         10        1       5           1\n",
       "Manufacturing      11    14   12         11        1       9           1\n",
       "Diversified         9    13   10          9        1       4           1\n",
       "Technology          7    11    8          7        1       5           1\n",
       "Food & Beverage     6     8    8          6        1       2           1"
      ]
     },
     "execution_count": 154,
     "metadata": {},
     "output_type": "execute_result"
    }
   ],
   "source": [
    "#df[df['Country']=='India'].groupby('Industries')['Name'].nunique().sort_values(ascending=False).head(5)\n",
    "df.loc[df['Country']=='India'].groupby(df['Industries']).nunique().nlargest(5,'Name')"
   ]
  },
  {
   "cell_type": "markdown",
   "metadata": {},
   "source": [
    "# Q10. Name all the Indian billionaires in global top 100 list."
   ]
  },
  {
   "cell_type": "code",
   "execution_count": 155,
   "metadata": {
    "ExecuteTime": {
     "end_time": "2020-11-19T05:36:03.860872Z",
     "start_time": "2020-11-19T05:36:03.729988Z"
    }
   },
   "outputs": [
    {
     "data": {
      "text/html": [
       "<div>\n",
       "<style scoped>\n",
       "    .dataframe tbody tr th:only-of-type {\n",
       "        vertical-align: middle;\n",
       "    }\n",
       "\n",
       "    .dataframe tbody tr th {\n",
       "        vertical-align: top;\n",
       "    }\n",
       "\n",
       "    .dataframe thead th {\n",
       "        text-align: right;\n",
       "    }\n",
       "</style>\n",
       "<table border=\"1\" class=\"dataframe\">\n",
       "  <thead>\n",
       "    <tr style=\"text-align: right;\">\n",
       "      <th></th>\n",
       "      <th>Rank</th>\n",
       "      <th>Name</th>\n",
       "      <th>Age</th>\n",
       "      <th>Net Worth</th>\n",
       "      <th>Country</th>\n",
       "      <th>Source</th>\n",
       "      <th>Industries</th>\n",
       "    </tr>\n",
       "  </thead>\n",
       "  <tbody>\n",
       "    <tr>\n",
       "      <th>20</th>\n",
       "      <td>21</td>\n",
       "      <td>MUKESH AMBANI</td>\n",
       "      <td>62.0</td>\n",
       "      <td>36.8</td>\n",
       "      <td>India</td>\n",
       "      <td>petrochemicals, oil &amp; gas</td>\n",
       "      <td>Energy</td>\n",
       "    </tr>\n",
       "    <tr>\n",
       "      <th>77</th>\n",
       "      <td>78</td>\n",
       "      <td>RADHAKISHAN DAMANI &amp; FAMILY</td>\n",
       "      <td>65.0</td>\n",
       "      <td>13.8</td>\n",
       "      <td>India</td>\n",
       "      <td>retail, investments</td>\n",
       "      <td>Fashion &amp; Retail</td>\n",
       "    </tr>\n",
       "    <tr>\n",
       "      <th>102</th>\n",
       "      <td>103</td>\n",
       "      <td>SHIV NADAR</td>\n",
       "      <td>74.0</td>\n",
       "      <td>11.9</td>\n",
       "      <td>India</td>\n",
       "      <td>software services</td>\n",
       "      <td>Technology</td>\n",
       "    </tr>\n",
       "    <tr>\n",
       "      <th>128</th>\n",
       "      <td>129</td>\n",
       "      <td>UDAY KOTAK</td>\n",
       "      <td>61.0</td>\n",
       "      <td>10.4</td>\n",
       "      <td>India</td>\n",
       "      <td>banking</td>\n",
       "      <td>Finance &amp; Investments</td>\n",
       "    </tr>\n",
       "    <tr>\n",
       "      <th>154</th>\n",
       "      <td>155</td>\n",
       "      <td>GAUTAM ADANI</td>\n",
       "      <td>57.0</td>\n",
       "      <td>8.9</td>\n",
       "      <td>India</td>\n",
       "      <td>commodities, ports</td>\n",
       "      <td>Diversified</td>\n",
       "    </tr>\n",
       "    <tr>\n",
       "      <th>...</th>\n",
       "      <td>...</td>\n",
       "      <td>...</td>\n",
       "      <td>...</td>\n",
       "      <td>...</td>\n",
       "      <td>...</td>\n",
       "      <td>...</td>\n",
       "      <td>...</td>\n",
       "    </tr>\n",
       "    <tr>\n",
       "      <th>1856</th>\n",
       "      <td>1851</td>\n",
       "      <td>BINNY BANSAL</td>\n",
       "      <td>37.0</td>\n",
       "      <td>1.1</td>\n",
       "      <td>India</td>\n",
       "      <td>flipkart</td>\n",
       "      <td>Technology</td>\n",
       "    </tr>\n",
       "    <tr>\n",
       "      <th>1867</th>\n",
       "      <td>1851</td>\n",
       "      <td>ACHARYA BALKRISHNA</td>\n",
       "      <td>47.0</td>\n",
       "      <td>1.1</td>\n",
       "      <td>India</td>\n",
       "      <td>consumer goods</td>\n",
       "      <td>Food &amp; Beverage</td>\n",
       "    </tr>\n",
       "    <tr>\n",
       "      <th>1888</th>\n",
       "      <td>1851</td>\n",
       "      <td>SANDEEP ENGINEER</td>\n",
       "      <td>58.0</td>\n",
       "      <td>1.1</td>\n",
       "      <td>India</td>\n",
       "      <td>plastic pipes</td>\n",
       "      <td>Manufacturing</td>\n",
       "    </tr>\n",
       "    <tr>\n",
       "      <th>1902</th>\n",
       "      <td>1851</td>\n",
       "      <td>S.D. SHIBULAL</td>\n",
       "      <td>65.0</td>\n",
       "      <td>1.1</td>\n",
       "      <td>India</td>\n",
       "      <td>software services</td>\n",
       "      <td>Technology</td>\n",
       "    </tr>\n",
       "    <tr>\n",
       "      <th>1970</th>\n",
       "      <td>1851</td>\n",
       "      <td>ARVIND PODDAR</td>\n",
       "      <td>62.0</td>\n",
       "      <td>1.1</td>\n",
       "      <td>India</td>\n",
       "      <td>tires</td>\n",
       "      <td>Automotive</td>\n",
       "    </tr>\n",
       "  </tbody>\n",
       "</table>\n",
       "<p>100 rows × 7 columns</p>\n",
       "</div>"
      ],
      "text/plain": [
       "      Rank                         Name   Age  Net Worth Country  \\\n",
       "20      21                MUKESH AMBANI  62.0       36.8   India   \n",
       "77      78  RADHAKISHAN DAMANI & FAMILY  65.0       13.8   India   \n",
       "102    103                   SHIV NADAR  74.0       11.9   India   \n",
       "128    129                   UDAY KOTAK  61.0       10.4   India   \n",
       "154    155                 GAUTAM ADANI  57.0        8.9   India   \n",
       "...    ...                          ...   ...        ...     ...   \n",
       "1856  1851                 BINNY BANSAL  37.0        1.1   India   \n",
       "1867  1851           ACHARYA BALKRISHNA  47.0        1.1   India   \n",
       "1888  1851             SANDEEP ENGINEER  58.0        1.1   India   \n",
       "1902  1851                S.D. SHIBULAL  65.0        1.1   India   \n",
       "1970  1851                ARVIND PODDAR  62.0        1.1   India   \n",
       "\n",
       "                         Source             Industries  \n",
       "20    petrochemicals, oil & gas                 Energy  \n",
       "77          retail, investments       Fashion & Retail  \n",
       "102           software services             Technology  \n",
       "128                     banking  Finance & Investments  \n",
       "154          commodities, ports            Diversified  \n",
       "...                         ...                    ...  \n",
       "1856                   flipkart             Technology  \n",
       "1867             consumer goods        Food & Beverage  \n",
       "1888              plastic pipes          Manufacturing  \n",
       "1902          software services             Technology  \n",
       "1970                      tires             Automotive  \n",
       "\n",
       "[100 rows x 7 columns]"
      ]
     },
     "execution_count": 155,
     "metadata": {},
     "output_type": "execute_result"
    }
   ],
   "source": [
    "#df.loc[df['Country']=='India'].sort_values('Net Worth',ascending=False).head(100)\n",
    "df.loc[df['Country']=='India'].nlargest(100,'Net Worth')"
   ]
  },
  {
   "cell_type": "markdown",
   "metadata": {},
   "source": [
    "# Q11. Name all the billionaires in India who are younger than 50 years. Also state their mean net worth"
   ]
  },
  {
   "cell_type": "code",
   "execution_count": 183,
   "metadata": {
    "ExecuteTime": {
     "end_time": "2020-11-19T05:36:04.247094Z",
     "start_time": "2020-11-19T05:36:04.107281Z"
    }
   },
   "outputs": [
    {
     "data": {
      "text/html": [
       "<div>\n",
       "<style scoped>\n",
       "    .dataframe tbody tr th:only-of-type {\n",
       "        vertical-align: middle;\n",
       "    }\n",
       "\n",
       "    .dataframe tbody tr th {\n",
       "        vertical-align: top;\n",
       "    }\n",
       "\n",
       "    .dataframe thead th {\n",
       "        text-align: right;\n",
       "    }\n",
       "</style>\n",
       "<table border=\"1\" class=\"dataframe\">\n",
       "  <thead>\n",
       "    <tr style=\"text-align: right;\">\n",
       "      <th></th>\n",
       "      <th>Rank</th>\n",
       "      <th>Name</th>\n",
       "      <th>Age</th>\n",
       "      <th>Net Worth</th>\n",
       "      <th>Country</th>\n",
       "      <th>Source</th>\n",
       "      <th>Industries</th>\n",
       "    </tr>\n",
       "  </thead>\n",
       "  <tbody>\n",
       "    <tr>\n",
       "      <th>874</th>\n",
       "      <td>875</td>\n",
       "      <td>VIJAY SHEKHAR SHARMA</td>\n",
       "      <td>41.0</td>\n",
       "      <td>2.4</td>\n",
       "      <td>India</td>\n",
       "      <td>financial technology</td>\n",
       "      <td>Service</td>\n",
       "    </tr>\n",
       "    <tr>\n",
       "      <th>1196</th>\n",
       "      <td>1196</td>\n",
       "      <td>BYJU RAVEENDRAN</td>\n",
       "      <td>38.0</td>\n",
       "      <td>1.8</td>\n",
       "      <td>India</td>\n",
       "      <td>education technology</td>\n",
       "      <td>Technology</td>\n",
       "    </tr>\n",
       "    <tr>\n",
       "      <th>1237</th>\n",
       "      <td>1196</td>\n",
       "      <td>VIKAS OBEROI</td>\n",
       "      <td>49.0</td>\n",
       "      <td>1.8</td>\n",
       "      <td>India</td>\n",
       "      <td>real estate</td>\n",
       "      <td>Real Estate</td>\n",
       "    </tr>\n",
       "    <tr>\n",
       "      <th>1420</th>\n",
       "      <td>1415</td>\n",
       "      <td>RANJAN PAI</td>\n",
       "      <td>47.0</td>\n",
       "      <td>1.5</td>\n",
       "      <td>India</td>\n",
       "      <td>education</td>\n",
       "      <td>Service</td>\n",
       "    </tr>\n",
       "    <tr>\n",
       "      <th>1618</th>\n",
       "      <td>1613</td>\n",
       "      <td>SHAMSHEER VAYALIL</td>\n",
       "      <td>43.0</td>\n",
       "      <td>1.3</td>\n",
       "      <td>India</td>\n",
       "      <td>healthcare</td>\n",
       "      <td>Healthcare</td>\n",
       "    </tr>\n",
       "    <tr>\n",
       "      <th>1732</th>\n",
       "      <td>1730</td>\n",
       "      <td>SACHIN BANSAL</td>\n",
       "      <td>38.0</td>\n",
       "      <td>1.2</td>\n",
       "      <td>India</td>\n",
       "      <td>flipkart</td>\n",
       "      <td>Fashion &amp; Retail</td>\n",
       "    </tr>\n",
       "    <tr>\n",
       "      <th>1742</th>\n",
       "      <td>1730</td>\n",
       "      <td>RADHA VEMBU</td>\n",
       "      <td>47.0</td>\n",
       "      <td>1.2</td>\n",
       "      <td>India</td>\n",
       "      <td>technology</td>\n",
       "      <td>Technology</td>\n",
       "    </tr>\n",
       "    <tr>\n",
       "      <th>1856</th>\n",
       "      <td>1851</td>\n",
       "      <td>BINNY BANSAL</td>\n",
       "      <td>37.0</td>\n",
       "      <td>1.1</td>\n",
       "      <td>India</td>\n",
       "      <td>flipkart</td>\n",
       "      <td>Technology</td>\n",
       "    </tr>\n",
       "    <tr>\n",
       "      <th>1867</th>\n",
       "      <td>1851</td>\n",
       "      <td>ACHARYA BALKRISHNA</td>\n",
       "      <td>47.0</td>\n",
       "      <td>1.1</td>\n",
       "      <td>India</td>\n",
       "      <td>consumer goods</td>\n",
       "      <td>Food &amp; Beverage</td>\n",
       "    </tr>\n",
       "  </tbody>\n",
       "</table>\n",
       "</div>"
      ],
      "text/plain": [
       "      Rank                  Name   Age  Net Worth Country  \\\n",
       "874    875  VIJAY SHEKHAR SHARMA  41.0        2.4   India   \n",
       "1196  1196       BYJU RAVEENDRAN  38.0        1.8   India   \n",
       "1237  1196          VIKAS OBEROI  49.0        1.8   India   \n",
       "1420  1415            RANJAN PAI  47.0        1.5   India   \n",
       "1618  1613     SHAMSHEER VAYALIL  43.0        1.3   India   \n",
       "1732  1730         SACHIN BANSAL  38.0        1.2   India   \n",
       "1742  1730           RADHA VEMBU  47.0        1.2   India   \n",
       "1856  1851          BINNY BANSAL  37.0        1.1   India   \n",
       "1867  1851    ACHARYA BALKRISHNA  47.0        1.1   India   \n",
       "\n",
       "                    Source        Industries  \n",
       "874   financial technology           Service  \n",
       "1196  education technology        Technology  \n",
       "1237           real estate       Real Estate  \n",
       "1420             education           Service  \n",
       "1618            healthcare        Healthcare  \n",
       "1732              flipkart  Fashion & Retail  \n",
       "1742            technology        Technology  \n",
       "1856              flipkart        Technology  \n",
       "1867        consumer goods   Food & Beverage  "
      ]
     },
     "execution_count": 183,
     "metadata": {},
     "output_type": "execute_result"
    }
   ],
   "source": [
    "IB= df[(df['Country']=='India') & (df['Age']<50)]\n",
    "IB"
   ]
  },
  {
   "cell_type": "code",
   "execution_count": 180,
   "metadata": {},
   "outputs": [
    {
     "data": {
      "text/plain": [
       "1.4888888888888887"
      ]
     },
     "execution_count": 180,
     "metadata": {},
     "output_type": "execute_result"
    }
   ],
   "source": [
    "IB['Net Worth'].mean()"
   ]
  },
  {
   "cell_type": "markdown",
   "metadata": {},
   "source": [
    "# Q12. Name the Indian billionaires from real estate sector who are richer than 'DONALD TRUMP'."
   ]
  },
  {
   "cell_type": "code",
   "execution_count": 247,
   "metadata": {},
   "outputs": [
    {
     "data": {
      "text/html": [
       "<div>\n",
       "<style scoped>\n",
       "    .dataframe tbody tr th:only-of-type {\n",
       "        vertical-align: middle;\n",
       "    }\n",
       "\n",
       "    .dataframe tbody tr th {\n",
       "        vertical-align: top;\n",
       "    }\n",
       "\n",
       "    .dataframe thead th {\n",
       "        text-align: right;\n",
       "    }\n",
       "</style>\n",
       "<table border=\"1\" class=\"dataframe\">\n",
       "  <thead>\n",
       "    <tr style=\"text-align: right;\">\n",
       "      <th></th>\n",
       "      <th>Rank</th>\n",
       "      <th>Name</th>\n",
       "      <th>Age</th>\n",
       "      <th>Net Worth</th>\n",
       "      <th>Country</th>\n",
       "      <th>Source</th>\n",
       "      <th>Industries</th>\n",
       "    </tr>\n",
       "  </thead>\n",
       "  <tbody>\n",
       "    <tr>\n",
       "      <th>494</th>\n",
       "      <td>494</td>\n",
       "      <td>KUSHAL PAL SINGH</td>\n",
       "      <td>88.0</td>\n",
       "      <td>3.7</td>\n",
       "      <td>India</td>\n",
       "      <td>real estate</td>\n",
       "      <td>Real Estate</td>\n",
       "    </tr>\n",
       "    <tr>\n",
       "      <th>774</th>\n",
       "      <td>764</td>\n",
       "      <td>CHANDRU RAHEJA</td>\n",
       "      <td>79.0</td>\n",
       "      <td>2.7</td>\n",
       "      <td>India</td>\n",
       "      <td>real estate</td>\n",
       "      <td>Real Estate</td>\n",
       "    </tr>\n",
       "    <tr>\n",
       "      <th>1237</th>\n",
       "      <td>1196</td>\n",
       "      <td>VIKAS OBEROI</td>\n",
       "      <td>49.0</td>\n",
       "      <td>1.8</td>\n",
       "      <td>India</td>\n",
       "      <td>real estate</td>\n",
       "      <td>Real Estate</td>\n",
       "    </tr>\n",
       "    <tr>\n",
       "      <th>1253</th>\n",
       "      <td>1196</td>\n",
       "      <td>MANGAL PRABHAT LODHA</td>\n",
       "      <td>64.0</td>\n",
       "      <td>1.8</td>\n",
       "      <td>India</td>\n",
       "      <td>real estate</td>\n",
       "      <td>Real Estate</td>\n",
       "    </tr>\n",
       "    <tr>\n",
       "      <th>1395</th>\n",
       "      <td>1335</td>\n",
       "      <td>JITENDRA VIRWANI</td>\n",
       "      <td>54.0</td>\n",
       "      <td>1.6</td>\n",
       "      <td>India</td>\n",
       "      <td>real estate</td>\n",
       "      <td>Real Estate</td>\n",
       "    </tr>\n",
       "    <tr>\n",
       "      <th>1712</th>\n",
       "      <td>1613</td>\n",
       "      <td>NIRANJAN HIRANANDANI</td>\n",
       "      <td>70.0</td>\n",
       "      <td>1.3</td>\n",
       "      <td>India</td>\n",
       "      <td>real estate</td>\n",
       "      <td>Real Estate</td>\n",
       "    </tr>\n",
       "    <tr>\n",
       "      <th>1716</th>\n",
       "      <td>1613</td>\n",
       "      <td>SUBHASH RUNWAL</td>\n",
       "      <td>76.0</td>\n",
       "      <td>1.3</td>\n",
       "      <td>India</td>\n",
       "      <td>real estate</td>\n",
       "      <td>Real Estate</td>\n",
       "    </tr>\n",
       "    <tr>\n",
       "      <th>1983</th>\n",
       "      <td>1851</td>\n",
       "      <td>MOFATRAJ MUNOT</td>\n",
       "      <td>75.0</td>\n",
       "      <td>1.1</td>\n",
       "      <td>India</td>\n",
       "      <td>real estate</td>\n",
       "      <td>Real Estate</td>\n",
       "    </tr>\n",
       "  </tbody>\n",
       "</table>\n",
       "</div>"
      ],
      "text/plain": [
       "      Rank                  Name   Age  Net Worth Country       Source  \\\n",
       "494    494      KUSHAL PAL SINGH  88.0        3.7   India  real estate   \n",
       "774    764        CHANDRU RAHEJA  79.0        2.7   India  real estate   \n",
       "1237  1196          VIKAS OBEROI  49.0        1.8   India  real estate   \n",
       "1253  1196  MANGAL PRABHAT LODHA  64.0        1.8   India  real estate   \n",
       "1395  1335      JITENDRA VIRWANI  54.0        1.6   India  real estate   \n",
       "1712  1613  NIRANJAN HIRANANDANI  70.0        1.3   India  real estate   \n",
       "1716  1613        SUBHASH RUNWAL  76.0        1.3   India  real estate   \n",
       "1983  1851        MOFATRAJ MUNOT  75.0        1.1   India  real estate   \n",
       "\n",
       "       Industries  \n",
       "494   Real Estate  \n",
       "774   Real Estate  \n",
       "1237  Real Estate  \n",
       "1253  Real Estate  \n",
       "1395  Real Estate  \n",
       "1712  Real Estate  \n",
       "1716  Real Estate  \n",
       "1983  Real Estate  "
      ]
     },
     "execution_count": 247,
     "metadata": {},
     "output_type": "execute_result"
    }
   ],
   "source": [
    "ib= df[(df['Country']=='India') & (df['Industries']=='Real Estate')]\n",
    "ib"
   ]
  },
  {
   "cell_type": "code",
   "execution_count": 251,
   "metadata": {},
   "outputs": [
    {
     "data": {
      "text/html": [
       "<div>\n",
       "<style scoped>\n",
       "    .dataframe tbody tr th:only-of-type {\n",
       "        vertical-align: middle;\n",
       "    }\n",
       "\n",
       "    .dataframe tbody tr th {\n",
       "        vertical-align: top;\n",
       "    }\n",
       "\n",
       "    .dataframe thead th {\n",
       "        text-align: right;\n",
       "    }\n",
       "</style>\n",
       "<table border=\"1\" class=\"dataframe\">\n",
       "  <thead>\n",
       "    <tr style=\"text-align: right;\">\n",
       "      <th></th>\n",
       "      <th>Rank</th>\n",
       "      <th>Name</th>\n",
       "      <th>Age</th>\n",
       "      <th>Net Worth</th>\n",
       "      <th>Country</th>\n",
       "      <th>Source</th>\n",
       "      <th>Industries</th>\n",
       "    </tr>\n",
       "  </thead>\n",
       "  <tbody>\n",
       "    <tr>\n",
       "      <th>494</th>\n",
       "      <td>494</td>\n",
       "      <td>KUSHAL PAL SINGH</td>\n",
       "      <td>88.0</td>\n",
       "      <td>3.7</td>\n",
       "      <td>India</td>\n",
       "      <td>real estate</td>\n",
       "      <td>Real Estate</td>\n",
       "    </tr>\n",
       "    <tr>\n",
       "      <th>774</th>\n",
       "      <td>764</td>\n",
       "      <td>CHANDRU RAHEJA</td>\n",
       "      <td>79.0</td>\n",
       "      <td>2.7</td>\n",
       "      <td>India</td>\n",
       "      <td>real estate</td>\n",
       "      <td>Real Estate</td>\n",
       "    </tr>\n",
       "  </tbody>\n",
       "</table>\n",
       "</div>"
      ],
      "text/plain": [
       "     Rank              Name   Age  Net Worth Country       Source   Industries\n",
       "494   494  KUSHAL PAL SINGH  88.0        3.7   India  real estate  Real Estate\n",
       "774   764    CHANDRU RAHEJA  79.0        2.7   India  real estate  Real Estate"
      ]
     },
     "execution_count": 251,
     "metadata": {},
     "output_type": "execute_result"
    }
   ],
   "source": [
    "ibr = ib[ib['Net Worth']>df[df['Name']=='DONALD TRUMP']['Net Worth'].values[0]]\n",
    "ibr"
   ]
  },
  {
   "cell_type": "markdown",
   "metadata": {},
   "source": [
    "# Q13. What is the total cumulative net worth of all the billionaires?"
   ]
  },
  {
   "cell_type": "code",
   "execution_count": 252,
   "metadata": {
    "ExecuteTime": {
     "end_time": "2020-11-19T05:36:05.126279Z",
     "start_time": "2020-11-19T05:36:05.020262Z"
    }
   },
   "outputs": [
    {
     "data": {
      "text/plain": [
       "0        113.0\n",
       "1        211.0\n",
       "2        287.0\n",
       "3        354.5\n",
       "4        413.5\n",
       "         ...  \n",
       "2090    8033.5\n",
       "2091    8034.5\n",
       "2092    8035.5\n",
       "2093    8036.5\n",
       "2094    8037.5\n",
       "Name: Net Worth, Length: 2095, dtype: float64"
      ]
     },
     "execution_count": 252,
     "metadata": {},
     "output_type": "execute_result"
    }
   ],
   "source": [
    "df['Net Worth'].cumsum()"
   ]
  },
  {
   "cell_type": "code",
   "execution_count": 253,
   "metadata": {},
   "outputs": [
    {
     "data": {
      "text/plain": [
       "8037.499999999999"
      ]
     },
     "execution_count": 253,
     "metadata": {},
     "output_type": "execute_result"
    }
   ],
   "source": [
    "df['Net Worth'].sum()"
   ]
  },
  {
   "cell_type": "markdown",
   "metadata": {},
   "source": [
    "# END"
   ]
  }
 ],
 "metadata": {
  "kernelspec": {
   "display_name": "Python 3 (ipykernel)",
   "language": "python",
   "name": "python3"
  },
  "language_info": {
   "codemirror_mode": {
    "name": "ipython",
    "version": 3
   },
   "file_extension": ".py",
   "mimetype": "text/x-python",
   "name": "python",
   "nbconvert_exporter": "python",
   "pygments_lexer": "ipython3",
   "version": "3.8.13"
  },
  "toc": {
   "base_numbering": 1,
   "nav_menu": {},
   "number_sections": true,
   "sideBar": true,
   "skip_h1_title": false,
   "title_cell": "Table of Contents",
   "title_sidebar": "Contents",
   "toc_cell": false,
   "toc_position": {},
   "toc_section_display": true,
   "toc_window_display": true
  },
  "varInspector": {
   "cols": {
    "lenName": 16,
    "lenType": 16,
    "lenVar": 40
   },
   "kernels_config": {
    "python": {
     "delete_cmd_postfix": "",
     "delete_cmd_prefix": "del ",
     "library": "var_list.py",
     "varRefreshCmd": "print(var_dic_list())"
    },
    "r": {
     "delete_cmd_postfix": ") ",
     "delete_cmd_prefix": "rm(",
     "library": "var_list.r",
     "varRefreshCmd": "cat(var_dic_list()) "
    }
   },
   "types_to_exclude": [
    "module",
    "function",
    "builtin_function_or_method",
    "instance",
    "_Feature"
   ],
   "window_display": false
  }
 },
 "nbformat": 4,
 "nbformat_minor": 4
}
