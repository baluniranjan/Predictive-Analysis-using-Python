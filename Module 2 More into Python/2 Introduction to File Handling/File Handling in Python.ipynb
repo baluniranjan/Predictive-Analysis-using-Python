{
 "cells": [
  {
   "cell_type": "markdown",
   "metadata": {},
   "source": [
    "## File Handling"
   ]
  },
  {
   "cell_type": "code",
   "execution_count": 1,
   "metadata": {},
   "outputs": [],
   "source": [
    "f = open(\"C:\\\\Users\\gurun\\Desktop\\VAC Predictive Analysis Python\\Module 2 More into Python\\\\2 Introduction to File Handling\\quotes.txt\", 'r')"
   ]
  },
  {
   "cell_type": "code",
   "execution_count": 2,
   "metadata": {},
   "outputs": [
    {
     "name": "stdout",
     "output_type": "stream",
     "text": [
      "1)The greatest glory in living lies not in never falling, but in rising every time we fall. -Nelson Mandela\n",
      "\n",
      "2)The way to get started is to quit talking and begin doing. -Walt Disney\n",
      "\n",
      "3)Your time is limited, so don't waste it living someone else's life. Don't be trapped by dogma â€“ which is living with the results of other people's thinking. -Steve Jobs\n",
      "\n",
      "4)If life were predictable it would cease to be life, and be without flavor. -Eleanor Roosevelt\n",
      "\n",
      "5)If you look at what you have in life, you'll always have more. If you look at what you don't have in life, you'll never have enough. -Oprah Winfrey\n",
      "\n",
      "6)If you set your goals ridiculously high and it's a failure, you will fail above everyone else's success. -James Cameron\n",
      "\n",
      "7)Life is what happens when you're busy making other plans. -John Lennon\n"
     ]
    }
   ],
   "source": [
    "for each in f:\n",
    "    print(each) "
   ]
  },
  {
   "cell_type": "markdown",
   "metadata": {},
   "source": [
    "## Open Function\n",
    "Filename and Mode required\n"
   ]
  },
  {
   "cell_type": "markdown",
   "metadata": {},
   "source": [
    "\n",
    "\n",
    "\"r\" - Read - Default value. Opens a file for reading, error if the file does not exist\n",
    "\n",
    "\"a\" - Append - Opens a file for appending, creates the file if it does not exist\n",
    "\n",
    "\"w\" - Write - Opens a file for writing, creates the file if it does not exist and overwrites if it exists\n",
    "\n",
    "\"x\" - Create - Creates the specified file, returns an error if the file exists\n",
    "\n",
    "\n",
    "In addition you can specify if the file should be handled as binary or text mode\n",
    "\n",
    "\"t\" - Text - Default value. Text mode\n",
    "\n",
    "\"b\" - Binary - Binary mode (e.g. images)\n"
   ]
  },
  {
   "cell_type": "code",
   "execution_count": 5,
   "metadata": {},
   "outputs": [
    {
     "name": "stdout",
     "output_type": "stream",
     "text": [
      "1)The grea\n"
     ]
    }
   ],
   "source": [
    "f = open(\"quotes.txt\", \"r\")\n",
    "print(f.read(10)) # reads the first 10 characters from the file"
   ]
  },
  {
   "cell_type": "code",
   "execution_count": 6,
   "metadata": {},
   "outputs": [
    {
     "name": "stdout",
     "output_type": "stream",
     "text": [
      "te\n"
     ]
    }
   ],
   "source": [
    "#f = open(\"quotes.txt\", \"r\")\n",
    "print(f.readline(2)) #read the next two characters from the current position of the file pointer and return them as a string."
   ]
  },
  {
   "cell_type": "code",
   "execution_count": 7,
   "metadata": {},
   "outputs": [
    {
     "data": {
      "text/plain": [
       "55"
      ]
     },
     "execution_count": 7,
     "metadata": {},
     "output_type": "execute_result"
    }
   ],
   "source": [
    "f = open(\"quotes.txt\", \"a\")\n",
    "f.write(\"8)The purpose of our lives is to be happy - Dalai Lama\\n\") "
   ]
  },
  {
   "cell_type": "code",
   "execution_count": 8,
   "metadata": {},
   "outputs": [
    {
     "name": "stdout",
     "output_type": "stream",
     "text": [
      "1)The greatest glory in living lies not in never falling, but in rising every time we fall. -Nelson Mandela\n",
      "\n",
      "2)The way to get started is to quit talking and begin doing. -Walt Disney\n",
      "\n",
      "3)Your time is limited, so don't waste it living someone else's life. Don't be trapped by dogma â€“ which is living with the results of other people's thinking. -Steve Jobs\n",
      "\n",
      "4)If life were predictable it would cease to be life, and be without flavor. -Eleanor Roosevelt\n",
      "\n",
      "5)If you look at what you have in life, you'll always have more. If you look at what you don't have in life, you'll never have enough. -Oprah Winfrey\n",
      "\n",
      "6)If you set your goals ridiculously high and it's a failure, you will fail above everyone else's success. -James Cameron\n",
      "\n",
      "7)Life is what happens when you're busy making other plans. -John Lennon8)The purpose of our lives is to be happy - Dalai Lama\n",
      "\n"
     ]
    }
   ],
   "source": [
    "f = open(\"quotes.txt\", 'r')\n",
    "for each in f: \n",
    "    print (each) "
   ]
  },
  {
   "cell_type": "code",
   "execution_count": 9,
   "metadata": {},
   "outputs": [
    {
     "data": {
      "text/plain": [
       "11"
      ]
     },
     "execution_count": 9,
     "metadata": {},
     "output_type": "execute_result"
    }
   ],
   "source": [
    "f = open(\"quotes.txt\", \"w\")\n",
    "f.write(\"Hey testing\") "
   ]
  },
  {
   "cell_type": "code",
   "execution_count": 10,
   "metadata": {},
   "outputs": [
    {
     "name": "stdout",
     "output_type": "stream",
     "text": [
      "Hey testing\n"
     ]
    }
   ],
   "source": [
    "f = open(\"quotes.txt\", 'r')\n",
    "for each in f: \n",
    "    print (each) "
   ]
  },
  {
   "cell_type": "code",
   "execution_count": 11,
   "metadata": {},
   "outputs": [],
   "source": [
    " f = open(\"newfile.txt\", \"x\") "
   ]
  },
  {
   "cell_type": "code",
   "execution_count": 12,
   "metadata": {},
   "outputs": [],
   "source": [
    "file = open('newfile.txt','w') \n",
    "file.write(\"This is the write command\\n\") \n",
    "file.write(\"It allows us to write in a particular file\") \n",
    "file.close() "
   ]
  },
  {
   "cell_type": "code",
   "execution_count": 13,
   "metadata": {},
   "outputs": [
    {
     "name": "stdout",
     "output_type": "stream",
     "text": [
      "This is the write command\n",
      "\n",
      "It allows us to write in a particular file\n"
     ]
    }
   ],
   "source": [
    "f = open(\"newfile.txt\", 'r')\n",
    "for each in f: \n",
    "    print (each) "
   ]
  },
  {
   "cell_type": "markdown",
   "metadata": {},
   "source": [
    "## Delete a file"
   ]
  },
  {
   "cell_type": "code",
   "execution_count": 15,
   "metadata": {},
   "outputs": [],
   "source": [
    "f.close()"
   ]
  },
  {
   "cell_type": "code",
   "execution_count": 16,
   "metadata": {},
   "outputs": [],
   "source": [
    "import os\n",
    "os.remove(\"newfile.txt\") "
   ]
  },
  {
   "cell_type": "code",
   "execution_count": null,
   "metadata": {},
   "outputs": [],
   "source": []
  }
 ],
 "metadata": {
  "kernelspec": {
   "display_name": "Python 3 (ipykernel)",
   "language": "python",
   "name": "python3"
  },
  "language_info": {
   "codemirror_mode": {
    "name": "ipython",
    "version": 3
   },
   "file_extension": ".py",
   "mimetype": "text/x-python",
   "name": "python",
   "nbconvert_exporter": "python",
   "pygments_lexer": "ipython3",
   "version": "3.9.6"
  }
 },
 "nbformat": 4,
 "nbformat_minor": 4
}
